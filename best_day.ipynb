{
 "cells": [
  {
   "cell_type": "code",
   "execution_count": 1,
   "metadata": {},
   "outputs": [],
   "source": [
    "import os\n",
    "import dotenv\n",
    "import numpy as np\n",
    "import pandas as pd\n",
    "import pandas_datareader.data as pdr\n",
    "from alpha_vantage.timeseries import TimeSeries\n",
    "import matplotlib.pyplot as plt"
   ]
  },
  {
   "cell_type": "code",
   "execution_count": 2,
   "metadata": {},
   "outputs": [
    {
     "data": {
      "image/png": "[encoded data removed]",
      "text/plain": [
       "<Figure size 432x288 with 1 Axes>"
      ]
     },
     "metadata": {
      "needs_background": "light"
     },
     "output_type": "display_data"
    },
    {
     "data": {
      "text/html": [
       "<div>\n",
       "<style scoped>\n",
       "    .dataframe tbody tr th:only-of-type {\n",
       "        vertical-align: middle;\n",
       "    }\n",
       "\n",
       "    .dataframe tbody tr th {\n",
       "        vertical-align: top;\n",
       "    }\n",
       "\n",
       "    .dataframe thead th {\n",
       "        text-align: right;\n",
       "    }\n",
       "</style>\n",
       "<table border=\"1\" class=\"dataframe\">\n",
       "  <thead>\n",
       "    <tr style=\"text-align: right;\">\n",
       "      <th></th>\n",
       "      <th>1. open</th>\n",
       "      <th>2. high</th>\n",
       "      <th>3. low</th>\n",
       "      <th>4. close</th>\n",
       "      <th>5. volume</th>\n",
       "    </tr>\n",
       "    <tr>\n",
       "      <th>date</th>\n",
       "      <th></th>\n",
       "      <th></th>\n",
       "      <th></th>\n",
       "      <th></th>\n",
       "      <th></th>\n",
       "    </tr>\n",
       "  </thead>\n",
       "  <tbody>\n",
       "    <tr>\n",
       "      <th>2020-11-10 20:00:00</th>\n",
       "      <td>408.50</td>\n",
       "      <td>409.00</td>\n",
       "      <td>408.50</td>\n",
       "      <td>409.00</td>\n",
       "      <td>3276.0</td>\n",
       "    </tr>\n",
       "    <tr>\n",
       "      <th>2020-11-10 19:59:00</th>\n",
       "      <td>408.60</td>\n",
       "      <td>408.65</td>\n",
       "      <td>408.60</td>\n",
       "      <td>408.65</td>\n",
       "      <td>950.0</td>\n",
       "    </tr>\n",
       "    <tr>\n",
       "      <th>2020-11-10 19:58:00</th>\n",
       "      <td>408.72</td>\n",
       "      <td>408.72</td>\n",
       "      <td>408.58</td>\n",
       "      <td>408.58</td>\n",
       "      <td>2056.0</td>\n",
       "    </tr>\n",
       "    <tr>\n",
       "      <th>2020-11-10 19:57:00</th>\n",
       "      <td>408.85</td>\n",
       "      <td>408.89</td>\n",
       "      <td>408.63</td>\n",
       "      <td>408.75</td>\n",
       "      <td>2193.0</td>\n",
       "    </tr>\n",
       "    <tr>\n",
       "      <th>2020-11-10 19:56:00</th>\n",
       "      <td>408.75</td>\n",
       "      <td>408.79</td>\n",
       "      <td>408.75</td>\n",
       "      <td>408.79</td>\n",
       "      <td>834.0</td>\n",
       "    </tr>\n",
       "    <tr>\n",
       "      <th>...</th>\n",
       "      <td>...</td>\n",
       "      <td>...</td>\n",
       "      <td>...</td>\n",
       "      <td>...</td>\n",
       "      <td>...</td>\n",
       "    </tr>\n",
       "    <tr>\n",
       "      <th>2020-10-28 04:09:00</th>\n",
       "      <td>419.75</td>\n",
       "      <td>419.75</td>\n",
       "      <td>419.75</td>\n",
       "      <td>419.75</td>\n",
       "      <td>378.0</td>\n",
       "    </tr>\n",
       "    <tr>\n",
       "      <th>2020-10-28 04:08:00</th>\n",
       "      <td>420.32</td>\n",
       "      <td>420.32</td>\n",
       "      <td>420.00</td>\n",
       "      <td>420.00</td>\n",
       "      <td>1649.0</td>\n",
       "    </tr>\n",
       "    <tr>\n",
       "      <th>2020-10-28 04:07:00</th>\n",
       "      <td>420.60</td>\n",
       "      <td>420.60</td>\n",
       "      <td>420.60</td>\n",
       "      <td>420.60</td>\n",
       "      <td>546.0</td>\n",
       "    </tr>\n",
       "    <tr>\n",
       "      <th>2020-10-28 04:06:00</th>\n",
       "      <td>420.89</td>\n",
       "      <td>420.89</td>\n",
       "      <td>420.80</td>\n",
       "      <td>420.80</td>\n",
       "      <td>887.0</td>\n",
       "    </tr>\n",
       "    <tr>\n",
       "      <th>2020-10-28 04:01:00</th>\n",
       "      <td>420.00</td>\n",
       "      <td>420.90</td>\n",
       "      <td>420.00</td>\n",
       "      <td>420.90</td>\n",
       "      <td>959.0</td>\n",
       "    </tr>\n",
       "  </tbody>\n",
       "</table>\n",
       "<p>7914 rows × 5 columns</p>\n",
       "</div>"
      ],
      "text/plain": [
       "                     1. open  2. high  3. low  4. close  5. volume\n",
       "date                                                              \n",
       "2020-11-10 20:00:00   408.50   409.00  408.50    409.00     3276.0\n",
       "2020-11-10 19:59:00   408.60   408.65  408.60    408.65      950.0\n",
       "2020-11-10 19:58:00   408.72   408.72  408.58    408.58     2056.0\n",
       "2020-11-10 19:57:00   408.85   408.89  408.63    408.75     2193.0\n",
       "2020-11-10 19:56:00   408.75   408.79  408.75    408.79      834.0\n",
       "...                      ...      ...     ...       ...        ...\n",
       "2020-10-28 04:09:00   419.75   419.75  419.75    419.75      378.0\n",
       "2020-10-28 04:08:00   420.32   420.32  420.00    420.00     1649.0\n",
       "2020-10-28 04:07:00   420.60   420.60  420.60    420.60      546.0\n",
       "2020-10-28 04:06:00   420.89   420.89  420.80    420.80      887.0\n",
       "2020-10-28 04:01:00   420.00   420.90  420.00    420.90      959.0\n",
       "\n",
       "[7914 rows x 5 columns]"
      ]
     },
     "execution_count": 2,
     "metadata": {},
     "output_type": "execute_result"
    }
   ],
   "source": [
    "API_KEY = os.environ[\"ALPHA_VANTAGE_API_KEY\"] # Your alpha vantage api key goes here\n",
    "ts = TimeSeries(key=API_KEY, output_format='pandas')\n",
    "\n",
    "data, meta_data = ts.get_intraday(symbol='TSLA',interval='1min', outputsize='full')\n",
    "data['4. close'].plot()\n",
    "plt.title('Intraday Times Series for the MSFT stock (1 min)')\n",
    "plt.show()\n",
    "data"
   ]
  },
  {
   "cell_type": "code",
   "execution_count": 12,
   "metadata": {},
   "outputs": [
    {
     "data": {
      "text/plain": [
       "[<matplotlib.lines.Line2D at 0x1fec919fc40>]"
      ]
     },
     "execution_count": 12,
     "metadata": {},
     "output_type": "execute_result"
    },
    {
     "data": {
      "image/png": "[encoded data removed]",
      "text/plain": [
       "<Figure size 432x288 with 1 Axes>"
      ]
     },
     "metadata": {
      "needs_background": "light"
     },
     "output_type": "display_data"
    }
   ],
   "source": [
    "close = data['4. close'].copy()\n",
    "close.index = 60 * close.index.hour + close.index.minute\n",
    "close = close.reset_index()\n",
    "\n",
    "min_mean = close.groupby('date').mean()\n",
    "\n",
    "plt.plot(min_mean.index, min_mean, alpha=0.9)"
   ]
  },
  {
   "cell_type": "code",
   "execution_count": null,
   "metadata": {},
   "outputs": [],
   "source": []
  },
  {
   "cell_type": "code",
   "execution_count": null,
   "metadata": {},
   "outputs": [],
   "source": []
  },
  {
   "cell_type": "code",
   "execution_count": null,
   "metadata": {},
   "outputs": [],
   "source": []
  },
  {
   "cell_type": "code",
   "execution_count": null,
   "metadata": {},
   "outputs": [],
   "source": []
  },
  {
   "cell_type": "code",
   "execution_count": null,
   "metadata": {},
   "outputs": [],
   "source": []
  },
  {
   "cell_type": "code",
   "execution_count": null,
   "metadata": {},
   "outputs": [],
   "source": []
  }
 ],
 "metadata": {
  "kernelspec": {
   "display_name": "Python 3",
   "language": "python",
   "name": "python3"
  },
  "language_info": {
   "codemirror_mode": {
    "name": "ipython",
    "version": 3
   },
   "file_extension": ".py",
   "mimetype": "text/x-python",
   "name": "python",
   "nbconvert_exporter": "python",
   "pygments_lexer": "ipython3",
   "version": "3.8.6"
  }
 },
 "nbformat": 4,
 "nbformat_minor": 4
}
